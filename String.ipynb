{
 "cells": [
  {
   "cell_type": "code",
   "execution_count": 1,
   "metadata": {},
   "outputs": [
    {
     "name": "stdout",
     "output_type": "stream",
     "text": [
      "e\n",
      "l\n"
     ]
    }
   ],
   "source": [
    "newStr = \"geeksforgeeks\"\n",
    "\n",
    "def checkFirstRepeatingChar(newStr):\n",
    "    Hash = dict();\n",
    "    for c in newStr:\n",
    "        if c not in Hash:\n",
    "            Hash[c] = 1\n",
    "        else:\n",
    "            return c\n",
    "    \n",
    "print(checkFirstRepeatingChar(newStr))\n",
    "print(checkFirstRepeatingChar('hello geeks'))"
   ]
  },
  {
   "cell_type": "code",
   "execution_count": null,
   "metadata": {},
   "outputs": [],
   "source": []
  }
 ],
 "metadata": {
  "kernelspec": {
   "display_name": "Python 3",
   "language": "python",
   "name": "python3"
  },
  "language_info": {
   "codemirror_mode": {
    "name": "ipython",
    "version": 3
   },
   "file_extension": ".py",
   "mimetype": "text/x-python",
   "name": "python",
   "nbconvert_exporter": "python",
   "pygments_lexer": "ipython3",
   "version": "3.7.4"
  }
 },
 "nbformat": 4,
 "nbformat_minor": 2
}

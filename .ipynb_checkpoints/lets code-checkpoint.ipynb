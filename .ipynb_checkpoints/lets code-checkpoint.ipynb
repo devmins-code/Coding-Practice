{
 "cells": [
  {
   "cell_type": "code",
   "execution_count": 1,
   "metadata": {},
   "outputs": [
    {
     "name": "stdout",
     "output_type": "stream",
     "text": [
      "Pallendrom\n"
     ]
    }
   ],
   "source": [
    "def checKStringPallendrom(stringA):\n",
    "    reversedStr = stringA [::-1]\n",
    "    if(stringA == reversedStr):\n",
    "        return 'Pallendrom'\n",
    "    else:\n",
    "        return 'Not Pallendrom'    \n",
    "    \n",
    "print(checKStringPallendrom('ABA'))"
   ]
  },
  {
   "cell_type": "code",
   "execution_count": 3,
   "metadata": {},
   "outputs": [
    {
     "name": "stdout",
     "output_type": "stream",
     "text": [
      "Pallendrom\n"
     ]
    }
   ],
   "source": [
    "def checKNumberPallendrom(num):\n",
    "    temp =  num\n",
    "    rev=0\n",
    "    while(num > 0):\n",
    "        rem = num%10;\n",
    "        rev=rev*10+rem\n",
    "        num = num//10\n",
    "    \n",
    "    if(rev == temp):\n",
    "        return 'Pallendrom'\n",
    "    else:\n",
    "        return 'Not Pallendrom'\n",
    "    \n",
    "print(checKNumberPallendrom(121))"
   ]
  },
  {
   "cell_type": "code",
   "execution_count": 6,
   "metadata": {},
   "outputs": [
    {
     "name": "stdout",
     "output_type": "stream",
     "text": [
      "Nishant Bhushan\n"
     ]
    }
   ],
   "source": [
    "# Upper case conversion/ Title case conversion\n",
    "def split(str):\n",
    "    return [char for char in str];\n",
    "\n",
    "def ReverseStr(str):\n",
    "    return [rev for rev in reversed(str)]\n",
    "def Uppercaseconversion(stringS):\n",
    "    strArr = stringS.split()\n",
    "    newStringArray = []\n",
    "    for word in strArr:\n",
    "        tempStrArr = split(word)\n",
    "        tempStrArr.pop(0);\n",
    "        tempStrArr.insert(0,chr(ord(word[0])-32))\n",
    "        newStringArray.append(\"\".join(tempStrArr))\n",
    "    temp = \" \".join(newStringArray)\n",
    "    return temp\n",
    "\n",
    "print(Uppercaseconversion('nishant bhushan'))"
   ]
  },
  {
   "cell_type": "code",
   "execution_count": 7,
   "metadata": {},
   "outputs": [
    {
     "name": "stdout",
     "output_type": "stream",
     "text": [
      "Yes\n",
      "Yes\n"
     ]
    }
   ],
   "source": [
    "def removeSpecialCharacter(string):\n",
    "    specialCharacterList = [':',';',',','?','/']\n",
    "    return ''.join(i for i in string if not i in specialCharacterList)\n",
    "\n",
    "# Save Ironman \n",
    "\n",
    "def SaveIronMan(stringA):\n",
    "#     stringA = removeSpecialCharacter(stringA)\n",
    "    strHalfLen = int(len(stringA)/2);\n",
    "    leftStr = removeSpecialCharacter(stringA[:strHalfLen])\n",
    "    rightStr = removeSpecialCharacter(stringA[strHalfLen:])\n",
    "    \n",
    "    templeftStr = leftStr[::-1]\n",
    "    if(templeftStr.lower() == rightStr.lower()):\n",
    "        return 'Yes'\n",
    "    else:\n",
    "        return 'No'\n",
    "    \n",
    "#     print(templeftStr.lower())\n",
    "#     print(rightStr.lower())\n",
    "\n",
    "print(SaveIronMan('I am :IronnorI Ma, i'))\n",
    "print(SaveIronMan('Ab?/Ba'))\n"
   ]
  },
  {
   "cell_type": "code",
   "execution_count": 8,
   "metadata": {},
   "outputs": [
    {
     "name": "stdout",
     "output_type": "stream",
     "text": [
      "[1, 6, 3, 12, 0, 0, 0]\n"
     ]
    }
   ],
   "source": [
    "# Given an array nums, write a function to move all 0's to the end of it while maintaining the relative order \n",
    "# of the non-zero elements.\n",
    "lst = [0,1,0,0,6,3,12]\n",
    "zero = 0\n",
    "for i in range(len(lst)):\n",
    "    if(lst[i] == 0):\n",
    "        for i in range(len(lst)-zero-1):\n",
    "            if(lst[i] == 0):\n",
    "                temp = lst[i+1];\n",
    "                lst[i+1] = lst[i]\n",
    "                lst[i] = temp\n",
    "            \n",
    "        zero =zero+1\n",
    "\n",
    "print(lst)"
   ]
  },
  {
   "cell_type": "code",
   "execution_count": 28,
   "metadata": {},
   "outputs": [
    {
     "name": "stdout",
     "output_type": "stream",
     "text": [
      "1\n",
      "1\n"
     ]
    }
   ],
   "source": [
    "# Longest Distinct characters in string\n",
    "def checkDuplicate(newStr):\n",
    "    Str =  split(newStr.lower())\n",
    "    for i in range(len(Str)):\n",
    "        poped=Str.pop(i)\n",
    "        if(poped in Str):\n",
    "            return 1\n",
    "        Str.insert(i,poped)\n",
    "    return 0\n",
    "\n",
    "print(checkDuplicate('geeksforgeeks'))\n",
    "print(checkDuplicate('Nishant'))"
   ]
  },
  {
   "cell_type": "code",
   "execution_count": 3,
   "metadata": {},
   "outputs": [
    {
     "name": "stdout",
     "output_type": "stream",
     "text": [
      "Longest Distinct Substring 7\n",
      "Longest Distinct Substring 6\n",
      "Longest Distinct Substring 5\n"
     ]
    }
   ],
   "source": [
    "# Longest Distinct characters in string\n",
    "def split(str):\n",
    "    return [char for char in str];\n",
    "\n",
    "def checkDuplicate(newStr):\n",
    "#     print(newStr)\n",
    "    for i in range(len(newStr)):\n",
    "        poped=newStr.pop(i)\n",
    "        if(poped in newStr):\n",
    "            return 1\n",
    "        newStr.insert(i,poped)\n",
    "    return 0\n",
    "    \n",
    "    \n",
    "\n",
    "def LongestDistinctcharactersinstring(strArray):\n",
    "    Str =  split(strArray) \n",
    "    arrayLen = len(Str)\n",
    "    nonDup = []\n",
    "    while (arrayLen>0):\n",
    "        for i in range(arrayLen):\n",
    "            if(checkDuplicate(Str[i:arrayLen]) != 1):\n",
    "                nonDup.append(len(Str[i:arrayLen]))\n",
    "            \n",
    "        arrayLen -= 1\n",
    "    \n",
    "    return max(nonDup)\n",
    "        \n",
    "        \n",
    "\n",
    "print('Longest Distinct Substring',LongestDistinctcharactersinstring('geeksforgeeks'))\n",
    "print('Longest Distinct Substring',LongestDistinctcharactersinstring('abababcdefabab cdab'))\n",
    "print('Longest Distinct Substring',LongestDistinctcharactersinstring('tmmzuxt'))"
   ]
  },
  {
   "cell_type": "code",
   "execution_count": 3,
   "metadata": {},
   "outputs": [
    {
     "name": "stdout",
     "output_type": "stream",
     "text": [
      "Longest Distinct Substring {'substring': 'eksforg', 'length': 7}\n",
      "Longest Distinct Substring {'substring': 'mzuxt', 'length': 5}\n"
     ]
    }
   ],
   "source": [
    "# Above code with optimized solution\n",
    "def LongestDistinctcharactersinstring(s):\n",
    "    Hash = dict()\n",
    "    mCount = 0\n",
    "    count = 0\n",
    "    bestWord = \"\"\n",
    "    for x in s:\n",
    "        if(x not in Hash):\n",
    "            Hash[x] = 1\n",
    "            count += 1\n",
    "            if(count>mCount):\n",
    "                mCount = count\n",
    "                bestWord = \"\".join(Hash.keys())\n",
    "        else:\n",
    "            Hash = dict()\n",
    "            Hash[x] = 1\n",
    "            count = 1\n",
    "        \n",
    "#         print(x,Hash,count,mCount)\n",
    "\n",
    "    \n",
    "    return {'substring':bestWord,'length' :mCount}\n",
    "    \n",
    "print('Longest Distinct Substring',LongestDistinctcharactersinstring('geeksforgeeks'))\n",
    "print('Longest Distinct Substring',LongestDistinctcharactersinstring('tmmzuxt'))"
   ]
  },
  {
   "cell_type": "code",
   "execution_count": 36,
   "metadata": {},
   "outputs": [
    {
     "name": "stdout",
     "output_type": "stream",
     "text": [
      "Original Matrix\n",
      "[2, 2, 2, 2, 2, 2, 2]\n",
      "[4, 4, 4, 4, 4, 4, 4]\n",
      "[6, 6, 6, 6, 6, 6, 6]\n",
      "[8, 8, 8, 8, 8, 8, 8]\n",
      "Rotated Matrix\n",
      "[2, 4, 6, 8]\n",
      "[2, 4, 6, 8]\n",
      "[2, 4, 6, 8]\n",
      "[2, 4, 6, 8]\n",
      "[2, 4, 6, 8]\n",
      "[2, 4, 6, 8]\n",
      "[2, 4, 6, 8]\n"
     ]
    }
   ],
   "source": [
    "def rotateMatrix(matrix):\n",
    "    newMatrix = []\n",
    "    for i in range(len(matrix[0])):\n",
    "        newMatrix.append([row[i] for row in matrix])\n",
    "    return newMatrix\n",
    "\n",
    "\n",
    "matrix = [[i*2]*7 for i in range(1,5)]\n",
    "print('Original Matrix')\n",
    "for i in matrix:\n",
    "    print(i)\n",
    "mat = rotateMatrix(matrix)\n",
    "print('Rotated Matrix')\n",
    "for i in mat:\n",
    "    print(i)"
   ]
  },
  {
   "cell_type": "code",
   "execution_count": 37,
   "metadata": {},
   "outputs": [
    {
     "name": "stdout",
     "output_type": "stream",
     "text": [
      "{'c', 'r', 'l', 'p', 'b'}\n"
     ]
    }
   ],
   "source": [
    "# Uncommon characters\n",
    "def Uncommoncharacters(str1,str2):\n",
    "    matrix = [[0]*len(str1) for i in range(len(str2))]\n",
    "    letters = []\n",
    "    \n",
    "    for i in range(len(str2)):\n",
    "        for j in range(len(str1)):\n",
    "            if(str2[i] == str1[j]):\n",
    "                matrix[i][j] = 1\n",
    "                \n",
    "        if 1 not in matrix[i]:\n",
    "            letters.append(str2[i])\n",
    "            \n",
    "    for j in range(len(matrix[0])):\n",
    "        if 1 not in [row[j] for row in matrix]:\n",
    "            letters.append(str1[j])\n",
    "            \n",
    "    return set(letters)\n",
    "                \n",
    "    \n",
    "print(Uncommoncharacters('characters','alphabets'))"
   ]
  },
  {
   "cell_type": "code",
   "execution_count": 11,
   "metadata": {},
   "outputs": [
    {
     "name": "stdout",
     "output_type": "stream",
     "text": [
      "-132\n"
     ]
    }
   ],
   "source": [
    "class Solution:\n",
    "    def reverse(self, x: int) -> int:\n",
    "        s=0\n",
    "        temp = abs(x)\n",
    "        while(temp>0):\n",
    "            r = temp%10\n",
    "            s = s*10+r\n",
    "            temp=temp//10\n",
    "        if(x<0):\n",
    "            return -s\n",
    "        else:\n",
    "            return s\n",
    "            \n",
    "sol = Solution()\n",
    "print(sol.reverse(-231))"
   ]
  },
  {
   "cell_type": "code",
   "execution_count": 37,
   "metadata": {},
   "outputs": [
    {
     "data": {
      "text/plain": [
       "18"
      ]
     },
     "execution_count": 37,
     "metadata": {},
     "output_type": "execute_result"
    }
   ],
   "source": [
    "def centuryFromYear(year):\n",
    "    r = year//100\n",
    "    d = year/100\n",
    "    if(r<d):\n",
    "        return r+1\n",
    "    else:\n",
    "        return r\n",
    "    return r\n",
    "\n",
    "centuryFromYear(1701)"
   ]
  },
  {
   "cell_type": "code",
   "execution_count": 38,
   "metadata": {},
   "outputs": [
    {
     "data": {
      "text/plain": [
       "False"
      ]
     },
     "execution_count": 38,
     "metadata": {},
     "output_type": "execute_result"
    }
   ],
   "source": [
    "def checkPalindrome(inputString):\n",
    "    revString = inputString[::-1]\n",
    "    if(revString == inputString):\n",
    "        return True\n",
    "    else:\n",
    "        return False\n",
    "    \n",
    "checkPalindrome('test')"
   ]
  },
  {
   "cell_type": "code",
   "execution_count": 40,
   "metadata": {},
   "outputs": [
    {
     "data": {
      "text/plain": [
       "[21, [7, 3]]"
      ]
     },
     "execution_count": 40,
     "metadata": {},
     "output_type": "execute_result"
    }
   ],
   "source": [
    "def adjacentElementsProduct(inputArray):\n",
    "    product = []\n",
    "    index = []\n",
    "    for i in range(len(inputArray)-1):\n",
    "        product.append(inputArray[i]*inputArray[i+1])\n",
    "        index.append([inputArray[i],inputArray[i+1]])\n",
    "    maxValueIndex = product.index(max(product))\n",
    "    return [product[maxValueIndex],index[maxValueIndex]]\n",
    "\n",
    "adjacentElementsProduct([3, 6, -2, -5, 7, 3])"
   ]
  },
  {
   "cell_type": "code",
   "execution_count": 1,
   "metadata": {},
   "outputs": [
    {
     "data": {
      "text/plain": [
       "True"
      ]
     },
     "execution_count": 1,
     "metadata": {},
     "output_type": "execute_result"
    }
   ],
   "source": [
    "def sumOfTwo(a, b, v):\n",
    "    for i in range(len(a)):\n",
    "        for j in range(len(b)):\n",
    "            if(a[i]+b[j] == v):\n",
    "                return True\n",
    "    return False\n",
    "sumOfTwo([1, 2, 3],[10, 20, 30, 40],42)"
   ]
  },
  {
   "cell_type": "code",
   "execution_count": 3,
   "metadata": {},
   "outputs": [
    {
     "data": {
      "text/plain": [
       "4"
      ]
     },
     "execution_count": 3,
     "metadata": {},
     "output_type": "execute_result"
    }
   ],
   "source": [
    "def searchInsert(nums, target):\n",
    "        for i in range(len(nums)):\n",
    "            if(nums[i] == target):\n",
    "                return i\n",
    "        return 0\n",
    "\n",
    "searchInsert([3,2,1,4,5],5)"
   ]
  },
  {
   "cell_type": "code",
   "execution_count": 1,
   "metadata": {},
   "outputs": [
    {
     "data": {
      "text/plain": [
       "dict_values([['eat', 'tea', 'ate'], ['tan', 'nat'], ['bat']])"
      ]
     },
     "execution_count": 1,
     "metadata": {},
     "output_type": "execute_result"
    }
   ],
   "source": [
    "def groupAnagrams(strs):\n",
    "    Hash = dict()\n",
    "    for x in strs:\n",
    "        freq = [0]*26\n",
    "        for y in x: #making hash of all words char\n",
    "            freq[ord(y)-ord('a')] +=1\n",
    "        key = tuple(freq) \n",
    "        if key not in Hash:\n",
    "            Hash[key] = list()\n",
    "        Hash[key].append(x)\n",
    "    return Hash.values()\n",
    "\n",
    "groupAnagrams([\"eat\", \"tea\", \"tan\", \"ate\", \"nat\", \"bat\"])"
   ]
  },
  {
   "cell_type": "code",
   "execution_count": 2,
   "metadata": {},
   "outputs": [
    {
     "data": {
      "text/plain": [
       "[0, 1]"
      ]
     },
     "execution_count": 2,
     "metadata": {},
     "output_type": "execute_result"
    }
   ],
   "source": [
    "def twoSumIndex(nums, target):\n",
    "    for i in range(len(nums)):\n",
    "        for j in range(i+1,len(nums)):\n",
    "            if(nums[i]+nums[j] == target):\n",
    "                return [i,j]\n",
    "        \n",
    "\n",
    "twoSumIndex([2, 7, 11, 15],9)       "
   ]
  },
  {
   "cell_type": "code",
   "execution_count": null,
   "metadata": {},
   "outputs": [],
   "source": []
  }
 ],
 "metadata": {
  "kernelspec": {
   "display_name": "Python 3",
   "language": "python",
   "name": "python3"
  },
  "language_info": {
   "codemirror_mode": {
    "name": "ipython",
    "version": 3
   },
   "file_extension": ".py",
   "mimetype": "text/x-python",
   "name": "python",
   "nbconvert_exporter": "python",
   "pygments_lexer": "ipython3",
   "version": "3.6.5"
  }
 },
 "nbformat": 4,
 "nbformat_minor": 2
}

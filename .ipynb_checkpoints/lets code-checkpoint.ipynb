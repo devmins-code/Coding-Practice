{
 "cells": [
  {
   "cell_type": "code",
   "execution_count": 1,
   "metadata": {},
   "outputs": [
    {
     "name": "stdout",
     "output_type": "stream",
     "text": [
      "Pallendrom\n"
     ]
    }
   ],
   "source": [
    "def checKStringPallendrom(stringA):\n",
    "    reversedStr = stringA [::-1]\n",
    "    if(stringA == reversedStr):\n",
    "        return 'Pallendrom'\n",
    "    else:\n",
    "        return 'Not Pallendrom'    \n",
    "    \n",
    "print(checKStringPallendrom('ABA'))"
   ]
  },
  {
   "cell_type": "code",
   "execution_count": 3,
   "metadata": {},
   "outputs": [
    {
     "name": "stdout",
     "output_type": "stream",
     "text": [
      "Pallendrom\n"
     ]
    }
   ],
   "source": [
    "def checKNumberPallendrom(num):\n",
    "    temp =  num\n",
    "    rev=0\n",
    "    while(num > 0):\n",
    "        rem = num%10;\n",
    "        rev=rev*10+rem\n",
    "        num = num//10\n",
    "    \n",
    "    if(rev == temp):\n",
    "        return 'Pallendrom'\n",
    "    else:\n",
    "        return 'Not Pallendrom'\n",
    "    \n",
    "print(checKNumberPallendrom(121))"
   ]
  },
  {
   "cell_type": "code",
   "execution_count": 6,
   "metadata": {},
   "outputs": [
    {
     "name": "stdout",
     "output_type": "stream",
     "text": [
      "Nishant Bhushan\n"
     ]
    }
   ],
   "source": [
    "# Upper case conversion/ Title case conversion\n",
    "def split(str):\n",
    "    return [char for char in str];\n",
    "\n",
    "def ReverseStr(str):\n",
    "    return [rev for rev in reversed(str)]\n",
    "def Uppercaseconversion(stringS):\n",
    "    strArr = stringS.split()\n",
    "    newStringArray = []\n",
    "    for word in strArr:\n",
    "        tempStrArr = split(word)\n",
    "        tempStrArr.pop(0);\n",
    "        tempStrArr.insert(0,chr(ord(word[0])-32))\n",
    "        newStringArray.append(\"\".join(tempStrArr))\n",
    "    temp = \" \".join(newStringArray)\n",
    "    return temp\n",
    "\n",
    "print(Uppercaseconversion('nishant bhushan'))"
   ]
  },
  {
   "cell_type": "code",
   "execution_count": 7,
   "metadata": {},
   "outputs": [
    {
     "name": "stdout",
     "output_type": "stream",
     "text": [
      "Yes\n",
      "Yes\n"
     ]
    }
   ],
   "source": [
    "def removeSpecialCharacter(string):\n",
    "    specialCharacterList = [':',';',',','?','/']\n",
    "    return ''.join(i for i in string if not i in specialCharacterList)\n",
    "\n",
    "# Save Ironman \n",
    "\n",
    "def SaveIronMan(stringA):\n",
    "#     stringA = removeSpecialCharacter(stringA)\n",
    "    strHalfLen = int(len(stringA)/2);\n",
    "    leftStr = removeSpecialCharacter(stringA[:strHalfLen])\n",
    "    rightStr = removeSpecialCharacter(stringA[strHalfLen:])\n",
    "    \n",
    "    templeftStr = leftStr[::-1]\n",
    "    if(templeftStr.lower() == rightStr.lower()):\n",
    "        return 'Yes'\n",
    "    else:\n",
    "        return 'No'\n",
    "    \n",
    "#     print(templeftStr.lower())\n",
    "#     print(rightStr.lower())\n",
    "\n",
    "print(SaveIronMan('I am :IronnorI Ma, i'))\n",
    "print(SaveIronMan('Ab?/Ba'))\n"
   ]
  },
  {
   "cell_type": "code",
   "execution_count": 8,
   "metadata": {},
   "outputs": [
    {
     "name": "stdout",
     "output_type": "stream",
     "text": [
      "[1, 6, 3, 12, 0, 0, 0]\n"
     ]
    }
   ],
   "source": [
    "# Given an array nums, write a function to move all 0's to the end of it while maintaining the relative order \n",
    "# of the non-zero elements.\n",
    "lst = [0,1,0,0,6,3,12]\n",
    "zero = 0\n",
    "for i in range(len(lst)):\n",
    "    if(lst[i] == 0):\n",
    "        for i in range(len(lst)-zero-1):\n",
    "            if(lst[i] == 0):\n",
    "                temp = lst[i+1];\n",
    "                lst[i+1] = lst[i]\n",
    "                lst[i] = temp\n",
    "            \n",
    "        zero =zero+1\n",
    "\n",
    "print(lst)"
   ]
  }
 ],
 "metadata": {
  "kernelspec": {
   "display_name": "Python 3",
   "language": "python",
   "name": "python3"
  },
  "language_info": {
   "codemirror_mode": {
    "name": "ipython",
    "version": 3
   },
   "file_extension": ".py",
   "mimetype": "text/x-python",
   "name": "python",
   "nbconvert_exporter": "python",
   "pygments_lexer": "ipython3",
   "version": "3.6.5"
  }
 },
 "nbformat": 4,
 "nbformat_minor": 2
}

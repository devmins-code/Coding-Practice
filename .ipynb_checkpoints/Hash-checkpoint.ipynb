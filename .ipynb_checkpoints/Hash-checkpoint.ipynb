{
 "cells": [
  {
   "cell_type": "code",
   "execution_count": 5,
   "metadata": {},
   "outputs": [
    {
     "data": {
      "text/plain": [
       "True"
      ]
     },
     "execution_count": 5,
     "metadata": {},
     "output_type": "execute_result"
    }
   ],
   "source": [
    "\"\"\"\n",
    "217. Contains Duplicate\n",
    "Given an array of integers, find if the array contains any duplicates.\n",
    "Your function should return true if any value appears at least twice in the array, \n",
    "and it should return false if every element is distinct.\n",
    "\n",
    "Input: [1,2,3,1]\n",
    "Output: true\n",
    "\"\"\"\n",
    "from typing import List\n",
    "def containsDuplicate(nums: List[int]) -> bool:\n",
    "    Hash = dict();\n",
    "    for val in nums:\n",
    "        if val in Hash:\n",
    "            Hash[val] = Hash[val] + 1\n",
    "            if Hash[val] > 1:\n",
    "                return True\n",
    "        else:\n",
    "            Hash[val] = 1\n",
    "    return False  \n",
    "\n",
    "containsDuplicate([1,2,3,1])"
   ]
  },
  {
   "cell_type": "code",
   "execution_count": 19,
   "metadata": {},
   "outputs": [
    {
     "data": {
      "text/plain": [
       "3"
      ]
     },
     "execution_count": 19,
     "metadata": {},
     "output_type": "execute_result"
    }
   ],
   "source": [
    "\"\"\"\n",
    "961. N-Repeated Element in Size 2N Array\n",
    "In a array A of size 2N, there are N+1 unique elements, and exactly one of these elements is repeated N times.\n",
    "Return the element repeated N times.\n",
    "\n",
    "Input: [1,2,3,3]\n",
    "Output: 3\n",
    "\"\"\"\n",
    "def repeatedNTimes(A: List[int]) -> int:\n",
    "    Hash = dict()\n",
    "    size = len(A)//2\n",
    "    for i in range(len(A)):\n",
    "        if A[i] in Hash:\n",
    "            Hash[A[i]] = Hash[A[i]] + 1\n",
    "        else :\n",
    "            Hash[A[i]]=1\n",
    "        if(Hash[A[i]] == size):\n",
    "            return A[i]\n",
    "repeatedNTimes([1,2,3,3])"
   ]
  },
  {
   "cell_type": "code",
   "execution_count": 20,
   "metadata": {},
   "outputs": [
    {
     "name": "stdout",
     "output_type": "stream",
     "text": [
      "True\n",
      "False\n"
     ]
    }
   ],
   "source": [
    "\"\"\"\n",
    "242. Valid Anagram\n",
    "Given two strings s and t , write a function to determine if t is an anagram of s.\n",
    "\n",
    "Input: s = \"anagram\", t = \"nagaram\"\n",
    "Output: true\n",
    "\"\"\"\n",
    "def isAnagram(s: str, t: str) -> bool:\n",
    "    strs = [s,t] \n",
    "    AnaList  = []\n",
    "    for x in strs:\n",
    "        freq = [0]*26\n",
    "        for y in x:\n",
    "            freq[ord(y)-ord('a')] +=1\n",
    "        key = tuple(freq)\n",
    "        AnaList.append(key)\n",
    "    if(AnaList[0] == AnaList[1]):\n",
    "        return True\n",
    "    else:\n",
    "        return False\n",
    "\n",
    "print(isAnagram(\"anagram\",\"nagaram\"))\n",
    "print(isAnagram(\"rat\",\"car\"))"
   ]
  },
  {
   "cell_type": "code",
   "execution_count": null,
   "metadata": {},
   "outputs": [],
   "source": []
  }
 ],
 "metadata": {
  "kernelspec": {
   "display_name": "Python 3",
   "language": "python",
   "name": "python3"
  },
  "language_info": {
   "codemirror_mode": {
    "name": "ipython",
    "version": 3
   },
   "file_extension": ".py",
   "mimetype": "text/x-python",
   "name": "python",
   "nbconvert_exporter": "python",
   "pygments_lexer": "ipython3",
   "version": "3.6.10"
  }
 },
 "nbformat": 4,
 "nbformat_minor": 4
}

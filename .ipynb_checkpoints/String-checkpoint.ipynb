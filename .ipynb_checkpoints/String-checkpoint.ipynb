{
 "cells": [
  {
   "cell_type": "code",
   "execution_count": 1,
   "metadata": {},
   "outputs": [
    {
     "name": "stdout",
     "output_type": "stream",
     "text": [
      "e\n",
      "l\n"
     ]
    }
   ],
   "source": [
    "newStr = \"geeksforgeeks\"\n",
    "\n",
    "def checkFirstRepeatingChar(newStr):\n",
    "    Hash = dict();\n",
    "    for c in newStr:\n",
    "        if c not in Hash:\n",
    "            Hash[c] = 1\n",
    "        else:\n",
    "            return c\n",
    "    \n",
    "print(checkFirstRepeatingChar(newStr))\n",
    "print(checkFirstRepeatingChar('hello geeks'))"
   ]
  },
  {
   "cell_type": "code",
   "execution_count": 2,
   "metadata": {},
   "outputs": [
    {
     "name": "stdout",
     "output_type": "stream",
     "text": [
      "1[.]1[.]1[.]1\n"
     ]
    }
   ],
   "source": [
    "\"\"\"\n",
    "1108. Defanging an IP Address\n",
    "\n",
    "Given a valid (IPv4) IP address, return a defanged version of that IP address.\n",
    "\n",
    "A defanged IP address replaces every period \".\" with \"[.]\".\n",
    "\n",
    "Input: address = \"1.1.1.1\"\n",
    "Output: \"1[.]1[.]1[.]1\"\n",
    "\"\"\"\n",
    "\n",
    "class Solution:\n",
    "    def defangIPaddr(self, address: str) -> str:\n",
    "        new = address.split(\".\")\n",
    "#         print(new)\n",
    "        newAddress = \"\"\n",
    "        for i in range(len(new)):\n",
    "            if i != 0:\n",
    "                newAddress += \"[.]\" + new[i]\n",
    "            else:\n",
    "                newAddress += new[i]\n",
    "        return newAddress\n",
    "    \n",
    "sol = Solution();\n",
    "print(sol.defangIPaddr(\"1.1.1.1\"))"
   ]
  },
  {
   "cell_type": "code",
   "execution_count": 5,
   "metadata": {},
   "outputs": [
    {
     "name": "stdout",
     "output_type": "stream",
     "text": [
      "3\n",
      "4\n"
     ]
    }
   ],
   "source": [
    "\"\"\"\n",
    "1221. Split a String in Balanced Strings\n",
    "\n",
    "Balanced strings are those who have equal quantity of 'L' and 'R' characters.\n",
    "\n",
    "Given a balanced string s split it in the maximum amount of balanced strings.\n",
    "\n",
    "Return the maximum amount of splitted balanced strings.\n",
    "\n",
    "Example 1:\n",
    "\n",
    "Input: s = \"RLRRLLRLRL\"\n",
    "Output: 4\n",
    "Explanation: s can be split into \"RL\", \"RRLL\", \"RL\", \"RL\", each substring contains same number of 'L' and 'R'.\n",
    "\n",
    "Example 2:\n",
    "\n",
    "Input: s = \"RLLLLRRRLR\"\n",
    "Output: 3\n",
    "Explanation: s can be split into \"RL\", \"LLLRRR\", \"LR\", each substring contains same number of 'L' and 'R'.\n",
    "\n",
    "\"\"\"\n",
    "class Solution:\n",
    "    def balancedStringSplit(self, s: str) -> int:\n",
    "#         print(s)\n",
    "        Hash = dict();\n",
    "        count = 0\n",
    "        for char in s:\n",
    "            if char not in Hash:\n",
    "                Hash[char] = 1\n",
    "            else:\n",
    "                Hash[char] = Hash[char] + 1\n",
    "            if 'R' in Hash and 'L' in Hash and Hash['R'] == Hash['L']:\n",
    "                count += 1\n",
    "                Hash = dict()\n",
    "#         print(Hash)\n",
    "#         print(count)\n",
    "        return count\n",
    "\n",
    "sol = Solution();\n",
    "print(sol.balancedStringSplit(\"RLLLLRRRLR\"))\n",
    "print(sol.balancedStringSplit(\"RLRRLLRLRL\"))"
   ]
  },
  {
   "cell_type": "code",
   "execution_count": null,
   "metadata": {},
   "outputs": [],
   "source": []
  }
 ],
 "metadata": {
  "kernelspec": {
   "display_name": "Python 3",
   "language": "python",
   "name": "python3"
  },
  "language_info": {
   "codemirror_mode": {
    "name": "ipython",
    "version": 3
   },
   "file_extension": ".py",
   "mimetype": "text/x-python",
   "name": "python",
   "nbconvert_exporter": "python",
   "pygments_lexer": "ipython3",
   "version": "3.7.4"
  }
 },
 "nbformat": 4,
 "nbformat_minor": 2
}

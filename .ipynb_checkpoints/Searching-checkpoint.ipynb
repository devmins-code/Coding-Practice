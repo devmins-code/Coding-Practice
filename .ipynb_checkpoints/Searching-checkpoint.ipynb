{
 "cells": [
  {
   "cell_type": "markdown",
   "metadata": {},
   "source": [
    "## Searching \n",
    "1. Linear Search \n",
    "2. Binary Search \n",
    "3. Depth First Search\n",
    "4. Breadth First Search"
   ]
  },
  {
   "cell_type": "code",
   "execution_count": 1,
   "metadata": {},
   "outputs": [
    {
     "data": {
      "text/plain": [
       "7"
      ]
     },
     "execution_count": 1,
     "metadata": {},
     "output_type": "execute_result"
    }
   ],
   "source": [
    "# Linear Search\n",
    "def linearSearch(nums,value):\n",
    "    for i in range(len(nums)):\n",
    "        if(value == nums[i]):\n",
    "            return i\n",
    "    return False\n",
    "   \n",
    "linearSearch([2,3,4,5,6,7,8,9],9)"
   ]
  },
  {
   "cell_type": "code",
   "execution_count": 63,
   "metadata": {},
   "outputs": [
    {
     "name": "stdout",
     "output_type": "stream",
     "text": [
      "Binary Search using recursion... \n",
      "Returns index of x in arr if present, else -1 \n",
      "4\n"
     ]
    }
   ],
   "source": [
    "# Binary Search using recursion\n",
    "def binarySearchRecursion(arr, l, r, x): \n",
    "    \"\"\"Binary Search using recursion... \\nReturns index of x in arr if present, else -1 \"\"\"\n",
    "    # Check base case \n",
    "    if r >= l: \n",
    "#         mid = l + (r - l) // 2\n",
    "        mid = int((l+r)//2)\n",
    "  \n",
    "        # If element is present at the middle itself \n",
    "        if arr[mid] == x: \n",
    "            return mid \n",
    "          \n",
    "        # If element is smaller than mid, then it  \n",
    "        # can only be present in left subarray \n",
    "        elif arr[mid] > x: \n",
    "            return binarySearchRecursion(arr, l, mid-1, x) \n",
    "  \n",
    "        # Else the element can only be present  \n",
    "        # in right subarray \n",
    "        else: \n",
    "            return binarySearchRecursion(arr, mid + 1, r, x) \n",
    "  \n",
    "    else: \n",
    "        # Element is not present in the array \n",
    "        return -1\n",
    "  \n",
    "\n",
    "# Driver Code \n",
    "print(binarySearchRecursion.__doc__)\n",
    "arr = [ 2, 3, 4, 10, 40 ] \n",
    "x = 40\n",
    "print(binarySearchRecursion(arr, 0, len(arr)-1, x))"
   ]
  },
  {
   "cell_type": "code",
   "execution_count": 64,
   "metadata": {},
   "outputs": [
    {
     "name": "stdout",
     "output_type": "stream",
     "text": [
      "Binary Search... \n",
      "Returns index of x in arr if present, else -1 \n"
     ]
    },
    {
     "data": {
      "text/plain": [
       "4"
      ]
     },
     "execution_count": 64,
     "metadata": {},
     "output_type": "execute_result"
    }
   ],
   "source": [
    "def binary_search(A,n,T):\n",
    "    \"\"\"Binary Search... \\nReturns index of x in arr if present, else -1 \"\"\"\n",
    "    L = 0\n",
    "    R = n-1\n",
    "    while L<= R:\n",
    "        m = int((L+R)//2)\n",
    "        if A[m] < T:\n",
    "            L = m+1\n",
    "        elif A[m]>T:\n",
    "            R = m-1\n",
    "        else:\n",
    "            return m\n",
    "    return -1\n",
    "print(binary_search.__doc__)\n",
    "binary_search([ 2, 3, 4, 10, 40 ],5,40)"
   ]
  },
  {
   "cell_type": "code",
   "execution_count": null,
   "metadata": {},
   "outputs": [],
   "source": []
  }
 ],
 "metadata": {
  "kernelspec": {
   "display_name": "Python 3",
   "language": "python",
   "name": "python3"
  },
  "language_info": {
   "codemirror_mode": {
    "name": "ipython",
    "version": 3
   },
   "file_extension": ".py",
   "mimetype": "text/x-python",
   "name": "python",
   "nbconvert_exporter": "python",
   "pygments_lexer": "ipython3",
   "version": "3.7.4"
  }
 },
 "nbformat": 4,
 "nbformat_minor": 2
}

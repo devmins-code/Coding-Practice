{
 "cells": [
  {
   "cell_type": "markdown",
   "metadata": {},
   "source": [
    "## Searching \n",
    "1. Linear Search \n",
    "2. Binary Search \n",
    "3. Depth First Search\n",
    "   - inOrder\n",
    "   - preOrder\n",
    "   - postOrder\n",
    "4. Breadth First Search"
   ]
  },
  {
   "cell_type": "code",
   "execution_count": 1,
   "metadata": {},
   "outputs": [
    {
     "data": {
      "text/plain": [
       "7"
      ]
     },
     "execution_count": 1,
     "metadata": {},
     "output_type": "execute_result"
    }
   ],
   "source": [
    "# Linear Search\n",
    "def linearSearch(nums,value):\n",
    "    for i in range(len(nums)):\n",
    "        if(value == nums[i]):\n",
    "            return i\n",
    "    return False\n",
    "   \n",
    "linearSearch([2,3,4,5,6,7,8,9],9)"
   ]
  },
  {
   "cell_type": "code",
   "execution_count": 63,
   "metadata": {},
   "outputs": [
    {
     "name": "stdout",
     "output_type": "stream",
     "text": [
      "Binary Search using recursion... \n",
      "Returns index of x in arr if present, else -1 \n",
      "4\n"
     ]
    }
   ],
   "source": [
    "# Binary Search using recursion\n",
    "def binarySearchRecursion(arr, l, r, x): \n",
    "    \"\"\"Binary Search using recursion... \\nReturns index of x in arr if present, else -1 \"\"\"\n",
    "    # Check base case \n",
    "    if r >= l: \n",
    "#         mid = l + (r - l) // 2\n",
    "        mid = int((l+r)//2)\n",
    "        # If element is present at the middle itself \n",
    "        if arr[mid] == x: \n",
    "            return mid \n",
    "        elif arr[mid] > x: \n",
    "            return binarySearchRecursion(arr, l, mid-1, x) \n",
    "        else: \n",
    "            return binarySearchRecursion(arr, mid + 1, r, x) \n",
    "    else: \n",
    "        # Element is not present in the array \n",
    "        return -1\n",
    "  \n",
    "\n",
    "# Driver Code \n",
    "print(binarySearchRecursion.__doc__)\n",
    "arr = [ 2, 3, 4, 10, 40 ] \n",
    "x = 40\n",
    "print(binarySearchRecursion(arr, 0, len(arr)-1, x))"
   ]
  },
  {
   "cell_type": "code",
   "execution_count": 64,
   "metadata": {},
   "outputs": [
    {
     "name": "stdout",
     "output_type": "stream",
     "text": [
      "Binary Search... \n",
      "Returns index of x in arr if present, else -1 \n"
     ]
    },
    {
     "data": {
      "text/plain": [
       "4"
      ]
     },
     "execution_count": 64,
     "metadata": {},
     "output_type": "execute_result"
    }
   ],
   "source": [
    "def binary_search(A,n,T):\n",
    "    \"\"\"Binary Search... \\nReturns index of x in arr if present, else -1 \"\"\"\n",
    "    L = 0\n",
    "    R = n-1\n",
    "    while L<= R:\n",
    "        m = int((L+R)//2)\n",
    "        if A[m] < T:\n",
    "            L = m+1\n",
    "        elif A[m]>T:\n",
    "            R = m-1\n",
    "        else:\n",
    "            return m\n",
    "    return -1\n",
    "print(binary_search.__doc__)\n",
    "binary_search([ 2, 3, 4, 10, 40 ],5,40)"
   ]
  },
  {
   "cell_type": "code",
   "execution_count": 41,
   "metadata": {},
   "outputs": [
    {
     "name": "stdout",
     "output_type": "stream",
     "text": [
      "Breadth First Search\n",
      "[9, 4, 20, 1, 6, 15, 170]\n",
      "Breadth First Search using Recursion\n",
      "[9, 4, 20, 1, 6, 15, 170]\n",
      "DFS Inorder uisng recursion -> LPR\n",
      "[1, 4, 6, 9, 15, 20, 170]\n"
     ]
    }
   ],
   "source": [
    "class Node: \n",
    "    def __init__(self,key): \n",
    "        self.left = None\n",
    "        self.right = None\n",
    "        self.val = key \n",
    "        \n",
    "class BST:\n",
    "    \"\"\"BST\"\"\"\n",
    "    def __init__(self):\n",
    "        self.root = None\n",
    "        self.length = 0\n",
    "        \n",
    "    def insert(self,value):\n",
    "        new_node = Node(value)\n",
    "        \n",
    "        if self.root is None: \n",
    "            self.root = new_node\n",
    "            self.length +=1\n",
    "        else:\n",
    "            currentNode = self.root\n",
    "            while(True):\n",
    "#                 print(currentNode.val)\n",
    "                if currentNode.val < new_node.val: \n",
    "                    if currentNode.right is None: \n",
    "                        currentNode.right = new_node\n",
    "                        self.length +=1\n",
    "                        return self.length\n",
    "                    else: \n",
    "                        currentNode = currentNode.right\n",
    "                else: \n",
    "                    if currentNode.left is None: \n",
    "                        currentNode.left = new_node \n",
    "                        self.length +=1\n",
    "                        return self.length\n",
    "                    else: \n",
    "                        currentNode = currentNode.left\n",
    "    \n",
    "    def breadthFirstSearch(self):\n",
    "        \"\"\"Breadth First Search\"\"\"\n",
    "        currentNode = self.root\n",
    "        queue = []\n",
    "        bfsList = []\n",
    "        queue.append(currentNode)\n",
    "        \n",
    "        while len(queue) > 0:\n",
    "            currentNode = queue.pop(0)\n",
    "#             print(currentNode.val)\n",
    "            bfsList.append(currentNode.val)\n",
    "            \n",
    "            if currentNode.left:\n",
    "                queue.append(currentNode.left)\n",
    "            if currentNode.right:\n",
    "                queue.append(currentNode.right)\n",
    "                \n",
    "        return bfsList\n",
    "    def breadthFirstSearchRecursive(self,queue,bfsList):\n",
    "        \"\"\"Breadth First Search using Recursion\"\"\"\n",
    "        if len(queue) == 0:\n",
    "            return bfsList\n",
    "        currentNode = queue.pop(0)\n",
    "#         print(currentNode.val)\n",
    "        bfsList.append(currentNode.val)\n",
    "        if currentNode.left:\n",
    "            queue.append(currentNode.left)\n",
    "        if currentNode.right:\n",
    "            queue.append(currentNode.right)\n",
    "        \n",
    "        return self.breadthFirstSearchRecursive(queue,bfsList)\n",
    "    \n",
    "    def DFSOLDWAYInorder(self,root): \n",
    "        \"\"\"DFS -> 1. inoder traversal of the BST \"\"\"\n",
    "        currentNode = root\n",
    "        if root: \n",
    "            self.DFSInorder(root.left) \n",
    "            print(root.val) \n",
    "            self.DFSInorder(root.right)\n",
    "    def DFSInorder(self):\n",
    "        \"\"\"DFS Inorder uisng recursion -> LPR\"\"\"\n",
    "        return traverseInOrder(self.root,[])\n",
    "\n",
    "            \n",
    "def traverseInOrder(node,InLst):\n",
    "    \"\"\"LPR\"\"\"\n",
    "#     print(node.val)\n",
    "#     print(InLst)\n",
    "    if node.left:\n",
    "        traverseInOrder(node.left,InLst)\n",
    "    InLst.append(node.val)\n",
    "    if node.right:\n",
    "        traverseInOrder(node.right,InLst)\n",
    "    return InLst            \n",
    "        \n",
    "        \n",
    "bst = BST()\n",
    "bst.insert(9)\n",
    "bst.insert(4)\n",
    "bst.insert(6)\n",
    "bst.insert(20)\n",
    "bst.insert(170)\n",
    "bst.insert(15)\n",
    "bst.insert(1)\n",
    "print(bst.breadthFirstSearch.__doc__)\n",
    "print(bst.breadthFirstSearch())\n",
    "print(bst.breadthFirstSearchRecursive.__doc__)\n",
    "print(bst.breadthFirstSearchRecursive([bst.root],[]))\n",
    "print(bst.DFSInorder.__doc__)\n",
    "print(bst.DFSInorder())"
   ]
  },
  {
   "cell_type": "code",
   "execution_count": null,
   "metadata": {},
   "outputs": [],
   "source": []
  }
 ],
 "metadata": {
  "kernelspec": {
   "display_name": "Python 3",
   "language": "python",
   "name": "python3"
  },
  "language_info": {
   "codemirror_mode": {
    "name": "ipython",
    "version": 3
   },
   "file_extension": ".py",
   "mimetype": "text/x-python",
   "name": "python",
   "nbconvert_exporter": "python",
   "pygments_lexer": "ipython3",
   "version": "3.7.4"
  }
 },
 "nbformat": 4,
 "nbformat_minor": 2
}

{
 "cells": [
  {
   "cell_type": "code",
   "execution_count": 16,
   "metadata": {},
   "outputs": [
    {
     "name": "stdout",
     "output_type": "stream",
     "text": [
      "this is using closure function \n",
      "fibonacci using DP\n",
      "55\n"
     ]
    }
   ],
   "source": [
    "def fibonacciMaster():\n",
    "    \"\"\"this is using closure function \"\"\"\n",
    "    cache = dict()\n",
    "    def fib(n):\n",
    "        \"\"\"fibonacci using DP\"\"\"\n",
    "        if n in cache:\n",
    "            return cache[n]\n",
    "        else:\n",
    "            if n < 2:\n",
    "                return n\n",
    "            else:\n",
    "                cache[n] = fib(n-1) + fib(n-2)\n",
    "#                 print(cache)\n",
    "                return cache[n]\n",
    "    return fib\n",
    "print(fibonacciMaster.__doc__)\n",
    "fibFaster = fibonacciMaster()\n",
    "print(fib.__doc__)\n",
    "print(fibFaster(10))"
   ]
  },
  {
   "cell_type": "code",
   "execution_count": 25,
   "metadata": {},
   "outputs": [
    {
     "name": "stdout",
     "output_type": "stream",
     "text": [
      "fibonacci using DP -> with bottom up approach > which avoids recursion\n",
      "55\n"
     ]
    }
   ],
   "source": [
    "def fibonacciMaster2(n):\n",
    "    \"\"\"fibonacci using DP -> with bottom up approach > which avoids recursion\"\"\"\n",
    "    answer = [0,1];\n",
    "    for i in range(2,n+1):\n",
    "        answer.append(answer[i-2]+answer[i-1])\n",
    "    return answer.pop(-1)\n",
    "\n",
    "print(fibonacciMaster2.__doc__)\n",
    "print(fibonacciMaster2(10))"
   ]
  },
  {
   "cell_type": "code",
   "execution_count": null,
   "metadata": {},
   "outputs": [],
   "source": []
  }
 ],
 "metadata": {
  "kernelspec": {
   "display_name": "Python 3",
   "language": "python",
   "name": "python3"
  },
  "language_info": {
   "codemirror_mode": {
    "name": "ipython",
    "version": 3
   },
   "file_extension": ".py",
   "mimetype": "text/x-python",
   "name": "python",
   "nbconvert_exporter": "python",
   "pygments_lexer": "ipython3",
   "version": "3.7.4"
  }
 },
 "nbformat": 4,
 "nbformat_minor": 2
}

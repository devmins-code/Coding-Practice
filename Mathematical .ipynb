{
 "cells": [
  {
   "cell_type": "code",
   "execution_count": 15,
   "metadata": {},
   "outputs": [
    {
     "name": "stdout",
     "output_type": "stream",
     "text": [
      "55555 44444 33333 22222 11111 \n",
      "44444 33333 22222 11111 \n",
      "33333 22222 11111 \n",
      "22222 11111 \n",
      "11111 \n"
     ]
    }
   ],
   "source": [
    "# Print the pattern | Set-1 \n",
    "def printPatternSet1(N):\n",
    "    for i in range(N,0,-1):\n",
    "        for j in range(i,0,-1):\n",
    "            pStr = str(j)\n",
    "            print(N*pStr,end=\" \")\n",
    "        print(\"\")\n",
    "printPatternSet1(5)"
   ]
  },
  {
   "cell_type": "code",
   "execution_count": 1,
   "metadata": {},
   "outputs": [
    {
     "name": "stdout",
     "output_type": "stream",
     "text": [
      "5\n",
      "10\n"
     ]
    }
   ],
   "source": [
    "# Series AP\n",
    "def FindNthAP(series,N):\n",
    "    d = series[1]-series[0];\n",
    "    a = series[0];\n",
    "    ap = (a + (N-1)*d)\n",
    "    return ap\n",
    "\n",
    "print(FindNthAP([2,3],4)) \n",
    "print(FindNthAP([1,2],10)) "
   ]
  },
  {
   "cell_type": "code",
   "execution_count": 2,
   "metadata": {},
   "outputs": [
    {
     "name": "stdout",
     "output_type": "stream",
     "text": [
      "2\n",
      "2\n"
     ]
    }
   ],
   "source": [
    "# Series GP\n",
    "def FindNthGP(series,N):\n",
    "    r = series[1]/series[0];\n",
    "    a = series[0];\n",
    "    GP = (a*r^(N-1))\n",
    "    return GP\n",
    "\n",
    "print(FindNthAP([2,3],1)) \n",
    "print(FindNthAP([1,2],2)) "
   ]
  },
  {
   "cell_type": "code",
   "execution_count": 3,
   "metadata": {},
   "outputs": [
    {
     "name": "stdout",
     "output_type": "stream",
     "text": [
      "Pallendrom\n",
      "Not Pallendrom\n"
     ]
    }
   ],
   "source": [
    "def checkPallendrom(number):\n",
    "    temp = number\n",
    "    rev=0\n",
    "    while(number>0):\n",
    "        r = number%10;\n",
    "        rev = rev*10+r\n",
    "        number = number//10\n",
    "       \n",
    "    if(rev==temp):\n",
    "        return 'Pallendrom';\n",
    "    else:\n",
    "        return 'Not Pallendrom'\n",
    "\n",
    "\n",
    "def sumNumber(number):\n",
    "    finalNumber = 0\n",
    "    while(number>0):\n",
    "        r = number%10;\n",
    "        finalNumber = finalNumber+r\n",
    "#         rev = rev*10+r\n",
    "        number = number//10\n",
    "    return finalNumber\n",
    "        \n",
    "\n",
    "print(checkPallendrom(sumNumber(56)))\n",
    "print(checkPallendrom(sumNumber(98)))"
   ]
  },
  {
   "cell_type": "code",
   "execution_count": 4,
   "metadata": {},
   "outputs": [
    {
     "data": {
      "text/plain": [
       "'Pallendrom'"
      ]
     },
     "execution_count": 4,
     "metadata": {},
     "output_type": "execute_result"
    }
   ],
   "source": [
    "checkPallendrom(11)"
   ]
  },
  {
   "cell_type": "code",
   "execution_count": 5,
   "metadata": {},
   "outputs": [
    {
     "name": "stdout",
     "output_type": "stream",
     "text": [
      "44\n",
      "136\n"
     ]
    }
   ],
   "source": [
    "def binaryToDecimal(binary):\n",
    "    temp = binary\n",
    "    sumation = []\n",
    "    power =0\n",
    "    while (binary>0):\n",
    "        r = binary%10\n",
    "        binary = binary//10\n",
    "        sumation.append(r*(2**power))\n",
    "        power = power +1\n",
    "    return sum(sumation)\n",
    "    \n",
    "\n",
    "print(binaryToDecimal(101100))\n",
    "print(binaryToDecimal(10001000))"
   ]
  },
  {
   "cell_type": "code",
   "execution_count": 6,
   "metadata": {},
   "outputs": [
    {
     "name": "stdout",
     "output_type": "stream",
     "text": [
      "[12, 21, 23, 32, 34, 43, 45, 54, 56, 65, 67, 76, 78, 87, 89, 98, 121, 123, 212, 232, 234, 321, 323, 343, 345, 432, 434, 454, 456, 543, 545, 565, 567, 654, 656, 676, 678, 765, 767, 787, 789, 876, 878, 898, 987, 989, 1212, 1232, 1234, 2121, 2123, 2321, 2323, 2343, 2345, 3212, 3232, 3234, 3432, 3434, 3454, 3456, 4321, 4323, 4343, 4345, 4543, 4545, 4565, 4567, 5432, 5434, 5454, 5456, 5654, 5656, 5676, 5678, 6543, 6545, 6565, 6567, 6765, 6767, 6787, 6789, 7654, 7656, 7676, 7678, 7876, 7878, 7898, 8765, 8767, 8787, 8789, 8987, 8989, 9876, 9878, 9898]\n"
     ]
    }
   ],
   "source": [
    "def checkJumpingNumber(N):\n",
    "    difference = 0\n",
    "    digits = []\n",
    "    iszeroflag = 0\n",
    "    while(N>0):\n",
    "        digit = N%10\n",
    "        N = N//10\n",
    "        digits.append(digit)\n",
    "        if(digit == 0):\n",
    "            iszeroflag = 1\n",
    "            return False\n",
    "    \n",
    "    for i in range(len(digits)-1):\n",
    "        if(not(abs(digits[i]-digits[i+1])==1)):\n",
    "            return False\n",
    "    \n",
    "    \n",
    "    return True\n",
    "    \n",
    "\n",
    "\n",
    "# Jumping Numbers \n",
    "def jumpingNumbers(N):\n",
    "    loopRange = N//10;\n",
    "    jnList = []\n",
    "    if(loopRange == 0):\n",
    "        return [i for i in range(10)]\n",
    "    \n",
    "    for i in range(10,N):\n",
    "        if(checkJumpingNumber(i)):\n",
    "            jnList.append(i)\n",
    "        \n",
    "    print(jnList)\n",
    "            \n",
    "jumpingNumbers(10000)    "
   ]
  },
  {
   "cell_type": "code",
   "execution_count": 7,
   "metadata": {},
   "outputs": [
    {
     "data": {
      "text/plain": [
       "True"
      ]
     },
     "execution_count": 7,
     "metadata": {},
     "output_type": "execute_result"
    }
   ],
   "source": [
    "checkJumpingNumber(4343456)"
   ]
  },
  {
   "cell_type": "code",
   "execution_count": null,
   "metadata": {},
   "outputs": [],
   "source": []
  }
 ],
 "metadata": {
  "kernelspec": {
   "display_name": "Python 3",
   "language": "python",
   "name": "python3"
  },
  "language_info": {
   "codemirror_mode": {
    "name": "ipython",
    "version": 3
   },
   "file_extension": ".py",
   "mimetype": "text/x-python",
   "name": "python",
   "nbconvert_exporter": "python",
   "pygments_lexer": "ipython3",
   "version": "3.6.5"
  }
 },
 "nbformat": 4,
 "nbformat_minor": 2
}

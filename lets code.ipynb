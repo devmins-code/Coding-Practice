{
 "cells": [
  {
   "cell_type": "code",
   "execution_count": 1,
   "metadata": {},
   "outputs": [
    {
     "name": "stdout",
     "output_type": "stream",
     "text": [
      "Pallendrom\n"
     ]
    }
   ],
   "source": [
    "def checKStringPallendrom(stringA):\n",
    "    reversedStr = stringA [::-1]\n",
    "    if(stringA == reversedStr):\n",
    "        return 'Pallendrom'\n",
    "    else:\n",
    "        return 'Not Pallendrom'    \n",
    "    \n",
    "print(checKStringPallendrom('ABA'))"
   ]
  },
  {
   "cell_type": "code",
   "execution_count": 3,
   "metadata": {},
   "outputs": [
    {
     "name": "stdout",
     "output_type": "stream",
     "text": [
      "Pallendrom\n"
     ]
    }
   ],
   "source": [
    "def checKNumberPallendrom(num):\n",
    "    temp =  num\n",
    "    rev=0\n",
    "    while(num > 0):\n",
    "        rem = num%10;\n",
    "        rev=rev*10+rem\n",
    "        num = num//10\n",
    "    \n",
    "    if(rev == temp):\n",
    "        return 'Pallendrom'\n",
    "    else:\n",
    "        return 'Not Pallendrom'\n",
    "    \n",
    "print(checKNumberPallendrom(121))"
   ]
  },
  {
   "cell_type": "code",
   "execution_count": null,
   "metadata": {},
   "outputs": [],
   "source": []
  }
 ],
 "metadata": {
  "kernelspec": {
   "display_name": "Python 3",
   "language": "python",
   "name": "python3"
  },
  "language_info": {
   "codemirror_mode": {
    "name": "ipython",
    "version": 3
   },
   "file_extension": ".py",
   "mimetype": "text/x-python",
   "name": "python",
   "nbconvert_exporter": "python",
   "pygments_lexer": "ipython3",
   "version": "3.6.5"
  }
 },
 "nbformat": 4,
 "nbformat_minor": 2
}
